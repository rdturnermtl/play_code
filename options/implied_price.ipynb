{
 "cells": [
  {
   "cell_type": "code",
   "execution_count": null,
   "metadata": {},
   "outputs": [],
   "source": [
    "import numpy as np\n",
    "import pandas as pd\n",
    "from scipy.misc import central_diff_weights\n",
    "from sklearn.gaussian_process import GaussianProcessRegressor\n",
    "\n",
    "from sklearn.gaussian_process.kernels import RBF, ConstantKernel, Matern"
   ]
  },
  {
   "cell_type": "code",
   "execution_count": null,
   "metadata": {},
   "outputs": [],
   "source": [
    "def get_grad_mat(local_pts, total_pts, n_grad, epsilon=1):\n",
    "    w = central_diff_weights(local_pts, n_grad)\n",
    "    w_total = np.zeros((total_pts, local_pts * total_pts))\n",
    "    for ii in range(total_pts):\n",
    "        start = ii * local_pts\n",
    "        w_total[ii, start:start + local_pts] = w\n",
    "    w_total = w_total / (epsilon ** n_grad)\n",
    "    return w_total\n",
    "\n",
    "\n",
    "def get_local_points(x, local_pts, epsilon):\n",
    "    assert local_pts % 2 == 1\n",
    "    #\n",
    "    pad = epsilon * np.array(range(-(local_pts // 2), (local_pts // 2) + 1))\n",
    "    assert(len(pad) == local_pts)\n",
    "    #\n",
    "    x_total = np.zeros((local_pts * len(x),))\n",
    "    for ii, xx in enumerate(x):\n",
    "        start = ii * local_pts\n",
    "        x_total[start:start + local_pts] = xx + pad\n",
    "    #\n",
    "    assert list(x_total) == sorted(x_total)\n",
    "    return x_total"
   ]
  },
  {
   "cell_type": "code",
   "execution_count": null,
   "metadata": {},
   "outputs": [],
   "source": [
    "def get_grad_moments(gp, x, local_pts, epsilon, n_grad, prepend=[]):\n",
    "    total_pts, = x.shape\n",
    "\n",
    "    x_padded = get_local_points(x, local_pts, epsilon)\n",
    "\n",
    "    X_test = np.tile(prepend + [0], (len(x_padded), 1))\n",
    "    X_test[:, -1] = x_padded\n",
    "\n",
    "    mu, cov = gp.predict(X_test, return_cov=True)\n",
    "\n",
    "    W = get_grad_mat(local_pts, total_pts, n_grad, epsilon)\n",
    "    mu_grad = np.dot(W, mu)\n",
    "    cov_grad = np.dot(np.dot(W, cov), W.T)\n",
    "\n",
    "    return mu_grad, cov_grad, W"
   ]
  },
  {
   "cell_type": "code",
   "execution_count": null,
   "metadata": {},
   "outputs": [],
   "source": [
    "def get_price(calls_df, tte, price_grid, local_pts=5, epsilon=1e-4, n_samples=100):\n",
    "    X = calls_df[['TTE', 'Strike']].values\n",
    "    y = calls_df['Mid'].values\n",
    "    #\n",
    "    missing = np.isnan(y)\n",
    "    X = X[~missing, :]\n",
    "    y = y[~missing]\n",
    "    #\n",
    "    gp = GaussianProcessRegressor(normalize_y=True)\n",
    "    gp.fit(X, y)\n",
    "    #\n",
    "    mu_grad, cov_grad, _ = get_grad_moments(gp, price_grid, local_pts, epsilon, n_grad=2, prepend=[tte])\n",
    "    #\n",
    "    X = np.random.multivariate_normal(mu_grad, cov_grad, size=n_samples)\n",
    "    X = np.maximum(X, 0)\n",
    "    X = X / np.sum(X, axis=-1, keepdims=True)  # normalize\n",
    "    return X, mu_grad, cov_grad"
   ]
  },
  {
   "cell_type": "code",
   "execution_count": null,
   "metadata": {},
   "outputs": [],
   "source": [
    "now = pd.datetime(2019, 1, 30)\n",
    "target_date = pd.datetime(2020, 1, 17)\n",
    "\n",
    "df_20191101 = pd.read_csv('20191101.tsv', delimiter='\\t', header=0, index_col=False, na_values=['-'], comment='#')\n",
    "df_20191101['expiry'] = pd.datetime(2019, 11, 1)\n",
    "\n",
    "df_20200117 = pd.read_csv('20200117.tsv', delimiter='\\t', header=0, index_col=False, na_values=['-'], comment='#')\n",
    "df_20200117['expiry'] = pd.datetime(2020, 1, 17)\n",
    "\n",
    "df_20210115 = pd.read_csv('20210115.tsv', delimiter='\\t', header=0, index_col=False, na_values=['-'], comment='#')\n",
    "df_20210115['expiry'] = pd.datetime(2021, 1, 15)"
   ]
  },
  {
   "cell_type": "code",
   "execution_count": null,
   "metadata": {},
   "outputs": [],
   "source": [
    "calls_df = pd.concat([df_20191101, df_20200117, df_20210115], axis=0)\n",
    "\n",
    "calls_df['TTE'] = (calls_df['expiry'] - now).apply(lambda x: int(x.days))\n",
    "calls_df['Mid'] = 0.5 * (calls_df['Bid'] + calls_df['Ask'])"
   ]
  },
  {
   "cell_type": "code",
   "execution_count": null,
   "metadata": {},
   "outputs": [],
   "source": [
    "tte = int((target_date - now).days)\n",
    "price_grid = np.linspace(20, 60, 100)"
   ]
  },
  {
   "cell_type": "code",
   "execution_count": null,
   "metadata": {},
   "outputs": [],
   "source": [
    "X, mu_grad, cov_grad = get_price(calls_df, tte, price_grid, epsilon=1e-1)"
   ]
  },
  {
   "cell_type": "code",
   "execution_count": null,
   "metadata": {},
   "outputs": [],
   "source": [
    "import matplotlib.pyplot as plt"
   ]
  },
  {
   "cell_type": "code",
   "execution_count": null,
   "metadata": {},
   "outputs": [],
   "source": [
    "plt.plot(df_20200117['Strike'].values, df_20200117['Ask'].values, '.-')\n",
    "plt.plot(df_20200117['Strike'].values, df_20200117['Bid'].values, '.-')"
   ]
  },
  {
   "cell_type": "code",
   "execution_count": null,
   "metadata": {},
   "outputs": [],
   "source": [
    "X = df_20200117['Strike'].values\n",
    "y = 0.5 * (df_20200117['Ask'].values + df_20200117['Bid'].values)\n",
    "spread = (df_20200117['Ask'].values - df_20200117['Bid'].values)\n",
    "alpha_var = (spread**2) / 12  # moment match to uniform\n",
    "\n",
    "price_grid = np.linspace(20, 60, 100)"
   ]
  },
  {
   "cell_type": "code",
   "execution_count": null,
   "metadata": {},
   "outputs": [],
   "source": [
    "base_kernel = Matern(\n",
    "    nu=5.0 / 2.0,\n",
    "    length_scale=10,\n",
    "    length_scale_bounds=(1, 1000),\n",
    ")\n",
    "\n",
    "k1 = ConstantKernel(\n",
    "    constant_value=1.0, constant_value_bounds=(0.01, 10000.0)\n",
    ")\n",
    "\n",
    "kernel = k1 * base_kernel"
   ]
  },
  {
   "cell_type": "code",
   "execution_count": null,
   "metadata": {},
   "outputs": [],
   "source": [
    "gp = GaussianProcessRegressor(kernel=kernel, n_restarts_optimizer=10, normalize_y=False, alpha=alpha_var)\n",
    "gp.fit(X[:, None], y)\n",
    "mu, cov = gp.predict(price_grid[:, None], return_cov=True)\n",
    "gp.kernel_.get_params()"
   ]
  },
  {
   "cell_type": "code",
   "execution_count": null,
   "metadata": {},
   "outputs": [],
   "source": [
    "S = np.random.multivariate_normal(mu, cov, size=20)"
   ]
  },
  {
   "cell_type": "code",
   "execution_count": null,
   "metadata": {},
   "outputs": [],
   "source": [
    "plt.plot(X, y, '.-')\n",
    "plt.plot(price_grid, mu, '-')\n",
    "plt.plot(price_grid, S.T, '-')"
   ]
  },
  {
   "cell_type": "code",
   "execution_count": null,
   "metadata": {},
   "outputs": [],
   "source": [
    "plt.plot(price_grid, S[0,:], '-')"
   ]
  },
  {
   "cell_type": "code",
   "execution_count": null,
   "metadata": {},
   "outputs": [],
   "source": [
    "plt.plot(price_grid, S[1,:], '-')"
   ]
  },
  {
   "cell_type": "code",
   "execution_count": null,
   "metadata": {},
   "outputs": [],
   "source": [
    "dx = 0.1\n",
    "x_padded = get_local_points(price_grid, 3, dx)"
   ]
  },
  {
   "cell_type": "code",
   "execution_count": null,
   "metadata": {},
   "outputs": [],
   "source": [
    "mu, cov = gp.predict(x_padded[:, None], return_cov=True)"
   ]
  },
  {
   "cell_type": "code",
   "execution_count": null,
   "metadata": {},
   "outputs": [],
   "source": [
    "plt.plot(x_padded, mu)"
   ]
  },
  {
   "cell_type": "code",
   "execution_count": null,
   "metadata": {},
   "outputs": [],
   "source": [
    "W = get_grad_mat(3, len(price_grid), 1, epsilon=dx)\n",
    "mu_grad = np.dot(W, mu)\n",
    "cov_grad = np.dot(np.dot(W, cov), W.T)"
   ]
  },
  {
   "cell_type": "code",
   "execution_count": null,
   "metadata": {},
   "outputs": [],
   "source": [
    "plt.plot(price_grid, mu_grad)"
   ]
  },
  {
   "cell_type": "code",
   "execution_count": null,
   "metadata": {},
   "outputs": [],
   "source": [
    "W = get_grad_mat(3, len(price_grid), 2, epsilon=dx)\n",
    "mu_grad = np.dot(W, mu)\n",
    "cov_grad = np.dot(np.dot(W, cov), W.T)"
   ]
  },
  {
   "cell_type": "code",
   "execution_count": null,
   "metadata": {},
   "outputs": [],
   "source": [
    "plt.plot(price_grid, mu_grad)"
   ]
  },
  {
   "cell_type": "code",
   "execution_count": null,
   "metadata": {},
   "outputs": [],
   "source": [
    "S = np.random.multivariate_normal(mu_grad, cov_grad, size=20)"
   ]
  },
  {
   "cell_type": "code",
   "execution_count": null,
   "metadata": {},
   "outputs": [],
   "source": [
    "plt.plot(price_grid, S[0,:], '-')"
   ]
  },
  {
   "cell_type": "code",
   "execution_count": null,
   "metadata": {},
   "outputs": [],
   "source": [
    "plt.plot(price_grid, S[3,:], '-')"
   ]
  },
  {
   "cell_type": "code",
   "execution_count": null,
   "metadata": {},
   "outputs": [],
   "source": [
    "pp = np.maximum(mu_grad, 0)\n",
    "pp = pp / np.sum(pp)\n",
    "mean_price = np.sum(price_grid*pp)"
   ]
  },
  {
   "cell_type": "code",
   "execution_count": null,
   "metadata": {},
   "outputs": [],
   "source": [
    "plt.figure(figsize=(5,3), dpi=300)\n",
    "plt.plot(price_grid, pp)\n",
    "plt.plot([mean_price, mean_price], [0, max(pp)], 'r--')\n",
    "plt.xlabel('price (USD)')\n",
    "plt.ylabel('PDF')\n",
    "plt.title('Jan 15 2021')\n",
    "plt.grid()"
   ]
  },
  {
   "cell_type": "code",
   "execution_count": null,
   "metadata": {},
   "outputs": [],
   "source": [
    "np.sum(price_grid*pp)"
   ]
  },
  {
   "cell_type": "code",
   "execution_count": null,
   "metadata": {},
   "outputs": [],
   "source": [
    "plt.figure(figsize=(5,3), dpi=300)\n",
    "plt.plot(price_grid, np.cumsum(pp))\n",
    "plt.grid()"
   ]
  },
  {
   "cell_type": "code",
   "execution_count": null,
   "metadata": {},
   "outputs": [],
   "source": []
  }
 ],
 "metadata": {
  "kernelspec": {
   "display_name": "jn",
   "language": "python",
   "name": "jn"
  },
  "language_info": {
   "codemirror_mode": {
    "name": "ipython",
    "version": 3
   },
   "file_extension": ".py",
   "mimetype": "text/x-python",
   "name": "python",
   "nbconvert_exporter": "python",
   "pygments_lexer": "ipython3",
   "version": "3.6.5"
  }
 },
 "nbformat": 4,
 "nbformat_minor": 2
}
